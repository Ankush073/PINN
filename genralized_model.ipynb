{
 "cells": [
  {
   "cell_type": "code",
   "execution_count": 3,
   "metadata": {},
   "outputs": [],
   "source": [
    "import numpy as np\n",
    "import tensorflow as tf\n",
    "import matplotlib.pyplot as plt"
   ]
  },
  {
   "cell_type": "code",
   "execution_count": 5,
   "metadata": {},
   "outputs": [],
   "source": [
    "np.random.seed(42)\n",
    "tf.random.set_seed(42)\n",
    "\n",
    "# Diffusion coefficient\n",
    "alpha = 0.01\n",
    "\n",
    "# Define the model: input = [x, t, A, B]\n",
    "model = tf.keras.Sequential([\n",
    "    tf.keras.layers.InputLayer(input_shape=(4,)),\n",
    "    tf.keras.layers.Dense(64, activation='tanh'),\n",
    "    tf.keras.layers.Dense(64, activation='tanh'),\n",
    "    tf.keras.layers.Dense(1)\n",
    "])"
   ]
  },
  {
   "cell_type": "code",
   "execution_count": 6,
   "metadata": {},
   "outputs": [],
   "source": [
    "def pde_residual(model, x, t, A, B):\n",
    "    with tf.GradientTape(persistent=True) as tape:\n",
    "        tape.watch([x, t])\n",
    "        inputs = tf.concat([x, t, A, B], axis=1)\n",
    "        u = model(inputs)\n",
    "        u_x = tape.gradient(u, x)\n",
    "    u_xx = tape.gradient(u_x, x)\n",
    "    u_t = tape.gradient(u, t)\n",
    "    del tape\n",
    "    return u_t - alpha * u_xx"
   ]
  },
  {
   "cell_type": "code",
   "execution_count": 7,
   "metadata": {},
   "outputs": [],
   "source": [
    "def loss_fn(model, x_int, t_int, x_ic, t_bc, A, B):\n",
    "    # PDE\n",
    "    f = pde_residual(model, x_int, t_int, A, B)\n",
    "    loss_pde = tf.reduce_mean(tf.square(f))\n",
    "\n",
    "    # Initial condition: u(x, 0) = A + (B - A)x\n",
    "    t0 = tf.zeros_like(x_ic)\n",
    "    inputs_ic = tf.concat([x_ic, t0, A, B], axis=1)\n",
    "    u0 = model(inputs_ic)\n",
    "    u0_true = A + (B - A) * x_ic\n",
    "    loss_ic = tf.reduce_mean(tf.square(u0 - u0_true))\n",
    "\n",
    "    # Boundary conditions\n",
    "    t_rand = t_bc\n",
    "    x0 = tf.zeros_like(t_rand)\n",
    "    x1 = tf.ones_like(t_rand)\n",
    "    u0 = model(tf.concat([x0, t_rand, A, B], axis=1))\n",
    "    u1 = model(tf.concat([x1, t_rand, A, B], axis=1))\n",
    "    loss_bc = tf.reduce_mean(tf.square(u0 - A)) + tf.reduce_mean(tf.square(u1 - B))\n",
    "\n",
    "    return loss_pde + loss_ic + loss_bc\n",
    "\n"
   ]
  },
  {
   "cell_type": "code",
   "execution_count": 8,
   "metadata": {},
   "outputs": [],
   "source": [
    "# Optimizer\n",
    "optimizer = tf.keras.optimizers.Adam(1e-3)"
   ]
  },
  {
   "cell_type": "code",
   "execution_count": 9,
   "metadata": {},
   "outputs": [],
   "source": [
    "def train_step(x_int, t_int, x_ic, t_bc, A, B):\n",
    "    with tf.GradientTape() as tape:\n",
    "        loss = loss_fn(model, x_int, t_int, x_ic, t_bc, A, B)\n",
    "    grads = tape.gradient(loss, model.trainable_variables)\n",
    "    optimizer.apply_gradients(zip(grads, model.trainable_variables))\n",
    "    return loss"
   ]
  },
  {
   "cell_type": "code",
   "execution_count": 10,
   "metadata": {},
   "outputs": [],
   "source": [
    "N = 1000\n",
    "x_int = tf.random.uniform((N, 1), 0, 1)\n",
    "t_int = tf.random.uniform((N, 1), 0, 1)\n",
    "x_ic = tf.random.uniform((N, 1), 0, 1)\n",
    "t_bc = tf.random.uniform((N, 1), 0, 1)\n",
    "A = tf.random.uniform((N, 1), 0, 1)\n",
    "B = tf.random.uniform((N, 1), 0, 1)"
   ]
  },
  {
   "cell_type": "code",
   "execution_count": 12,
   "metadata": {},
   "outputs": [
    {
     "name": "stdout",
     "output_type": "stream",
     "text": [
      "Epoch 0, Loss: 0.093834\n",
      "Epoch 100, Loss: 0.084111\n",
      "Epoch 200, Loss: 0.041766\n",
      "Epoch 300, Loss: 0.002682\n",
      "Epoch 400, Loss: 0.001307\n",
      "Epoch 500, Loss: 0.000938\n",
      "Epoch 600, Loss: 0.000797\n",
      "Epoch 700, Loss: 0.000724\n",
      "Epoch 800, Loss: 0.000669\n",
      "Epoch 900, Loss: 0.000622\n",
      "Epoch 1000, Loss: 0.000580\n"
     ]
    }
   ],
   "source": [
    "for epoch in range(1001):\n",
    "    loss = train_step(x_int, t_int, x_ic, t_bc, A, B)\n",
    "    if epoch % 100 == 0:\n",
    "        print(f\"Epoch {epoch}, Loss: {loss.numpy():.6f}\")"
   ]
  },
  {
   "cell_type": "code",
   "execution_count": 13,
   "metadata": {},
   "outputs": [
    {
     "data": {
      "image/png": "[encoded data removed]",
      "text/plain": [
       "<Figure size 800x600 with 1 Axes>"
      ]
     },
     "metadata": {},
     "output_type": "display_data"
    }
   ],
   "source": [
    "import numpy as np\n",
    "import matplotlib.pyplot as plt\n",
    "import tensorflow as tf\n",
    "\n",
    "# Parameters\n",
    "alpha = 0.01\n",
    "L = 1\n",
    "t_val = 0.1  # Change this to test at different times\n",
    "\n",
    "# Define Fourier-based analytical solution\n",
    "def analytical_solution(x, t, terms=100):\n",
    "    u = np.zeros_like(x)\n",
    "    for n in range(1, 2 * terms, 2):  # only odd terms\n",
    "        A_n = (40 / (n * np.pi))\n",
    "        u += A_n * np.sin(n * np.pi * x) * np.exp(-alpha * (n * np.pi)**2 * t)\n",
    "    return u\n",
    "\n",
    "# Generate test points\n",
    "x_test = np.linspace(0, L, 100).reshape(-1, 1)\n",
    "t_test = np.full_like(x_test, t_val)\n",
    "\n",
    "# Prepare model input (x, t, a, b) — assuming a=0, b=0 for both boundaries\n",
    "a = np.zeros_like(x_test)\n",
    "b = np.zeros_like(x_test)\n",
    "input_tensor = tf.convert_to_tensor(np.hstack([x_test, t_test, a, b]), dtype=tf.float32)\n",
    "\n",
    "# Predict from the trained model\n",
    "u_pred = model(input_tensor).numpy().flatten()\n",
    "\n",
    "# Compute analytical solution\n",
    "u_analytical = analytical_solution(x_test.flatten(), t_val)\n",
    "\n",
    "# Plotting\n",
    "plt.figure(figsize=(8, 6))\n",
    "plt.plot(x_test, u_analytical, 'k--', label='Analytical')\n",
    "plt.plot(x_test, u_pred, 'r-', label='PINN Prediction')\n",
    "plt.xlabel('x')\n",
    "plt.ylabel('u(x, t)')\n",
    "plt.title(f'Solution at t = {t_val}')\n",
    "plt.legend()\n",
    "plt.grid(True)\n",
    "plt.tight_layout()\n",
    "plt.show()\n"
   ]
  },
  {
   "cell_type": "code",
   "execution_count": null,
   "metadata": {},
   "outputs": [],
   "source": []
  }
 ],
 "metadata": {
  "kernelspec": {
   "display_name": "myenv",
   "language": "python",
   "name": "python3"
  },
  "language_info": {
   "codemirror_mode": {
    "name": "ipython",
    "version": 3
   },
   "file_extension": ".py",
   "mimetype": "text/x-python",
   "name": "python",
   "nbconvert_exporter": "python",
   "pygments_lexer": "ipython3",
   "version": "3.12.0"
  }
 },
 "nbformat": 4,
 "nbformat_minor": 2
}
